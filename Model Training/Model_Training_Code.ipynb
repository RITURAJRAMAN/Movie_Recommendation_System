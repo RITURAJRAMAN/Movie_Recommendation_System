{
 "cells": [
  {
   "cell_type": "markdown",
   "source": [
    "# Movie Recommendation System Model Training"
   ],
   "metadata": {
    "collapsed": false
   }
  },
  {
   "cell_type": "markdown",
   "source": [
    "### Importing the libraries"
   ],
   "metadata": {
    "collapsed": false
   }
  },
  {
   "cell_type": "code",
   "execution_count": 1,
   "outputs": [],
   "source": [
    "import pandas as pd\n",
    "import warnings\n",
    "\n",
    "warnings.filterwarnings('ignore')"
   ],
   "metadata": {
    "collapsed": false,
    "ExecuteTime": {
     "end_time": "2023-11-06T19:13:02.304116700Z",
     "start_time": "2023-11-06T19:13:01.875217400Z"
    }
   }
  },
  {
   "cell_type": "markdown",
   "source": [
    "### Importing the dataset"
   ],
   "metadata": {
    "collapsed": false
   }
  },
  {
   "cell_type": "code",
   "execution_count": 2,
   "outputs": [],
   "source": [
    "movies = pd.read_csv('tmdb_5000_movies.csv')\n",
    "credit = pd.read_csv('tmdb_5000_credits.csv')"
   ],
   "metadata": {
    "collapsed": false,
    "ExecuteTime": {
     "end_time": "2023-11-06T19:13:04.404606Z",
     "start_time": "2023-11-06T19:13:03.986380800Z"
    }
   }
  },
  {
   "cell_type": "code",
   "execution_count": 3,
   "outputs": [
    {
     "data": {
      "text/plain": "      budget                                             genres  \\\n0  237000000  [{\"id\": 28, \"name\": \"Action\"}, {\"id\": 12, \"nam...   \n1  300000000  [{\"id\": 12, \"name\": \"Adventure\"}, {\"id\": 14, \"...   \n2  245000000  [{\"id\": 28, \"name\": \"Action\"}, {\"id\": 12, \"nam...   \n3  250000000  [{\"id\": 28, \"name\": \"Action\"}, {\"id\": 80, \"nam...   \n4  260000000  [{\"id\": 28, \"name\": \"Action\"}, {\"id\": 12, \"nam...   \n\n                                       homepage      id  \\\n0                   http://www.avatarmovie.com/   19995   \n1  http://disney.go.com/disneypictures/pirates/     285   \n2   http://www.sonypictures.com/movies/spectre/  206647   \n3            http://www.thedarkknightrises.com/   49026   \n4          http://movies.disney.com/john-carter   49529   \n\n                                            keywords original_language  \\\n0  [{\"id\": 1463, \"name\": \"culture clash\"}, {\"id\":...                en   \n1  [{\"id\": 270, \"name\": \"ocean\"}, {\"id\": 726, \"na...                en   \n2  [{\"id\": 470, \"name\": \"spy\"}, {\"id\": 818, \"name...                en   \n3  [{\"id\": 849, \"name\": \"dc comics\"}, {\"id\": 853,...                en   \n4  [{\"id\": 818, \"name\": \"based on novel\"}, {\"id\":...                en   \n\n                             original_title  \\\n0                                    Avatar   \n1  Pirates of the Caribbean: At World's End   \n2                                   Spectre   \n3                     The Dark Knight Rises   \n4                               John Carter   \n\n                                            overview  popularity  \\\n0  In the 22nd century, a paraplegic Marine is di...  150.437577   \n1  Captain Barbossa, long believed to be dead, ha...  139.082615   \n2  A cryptic message from Bond’s past sends him o...  107.376788   \n3  Following the death of District Attorney Harve...  112.312950   \n4  John Carter is a war-weary, former military ca...   43.926995   \n\n                                production_companies  \\\n0  [{\"name\": \"Ingenious Film Partners\", \"id\": 289...   \n1  [{\"name\": \"Walt Disney Pictures\", \"id\": 2}, {\"...   \n2  [{\"name\": \"Columbia Pictures\", \"id\": 5}, {\"nam...   \n3  [{\"name\": \"Legendary Pictures\", \"id\": 923}, {\"...   \n4        [{\"name\": \"Walt Disney Pictures\", \"id\": 2}]   \n\n                                production_countries release_date     revenue  \\\n0  [{\"iso_3166_1\": \"US\", \"name\": \"United States o...   10-12-2009  2787965087   \n1  [{\"iso_3166_1\": \"US\", \"name\": \"United States o...   19-05-2007   961000000   \n2  [{\"iso_3166_1\": \"GB\", \"name\": \"United Kingdom\"...   26-10-2015   880674609   \n3  [{\"iso_3166_1\": \"US\", \"name\": \"United States o...   16-07-2012  1084939099   \n4  [{\"iso_3166_1\": \"US\", \"name\": \"United States o...   07-03-2012   284139100   \n\n   runtime                                   spoken_languages    status  \\\n0    162.0  [{\"iso_639_1\": \"en\", \"name\": \"English\"}, {\"iso...  Released   \n1    169.0           [{\"iso_639_1\": \"en\", \"name\": \"English\"}]  Released   \n2    148.0  [{\"iso_639_1\": \"fr\", \"name\": \"Fran\\u00e7ais\"},...  Released   \n3    165.0           [{\"iso_639_1\": \"en\", \"name\": \"English\"}]  Released   \n4    132.0           [{\"iso_639_1\": \"en\", \"name\": \"English\"}]  Released   \n\n                                          tagline  \\\n0                     Enter the World of Pandora.   \n1  At the end of the world, the adventure begins.   \n2                           A Plan No One Escapes   \n3                                 The Legend Ends   \n4            Lost in our world, found in another.   \n\n                                      title  vote_average  vote_count  \n0                                    Avatar           7.2       11800  \n1  Pirates of the Caribbean: At World's End           6.9        4500  \n2                                   Spectre           6.3        4466  \n3                     The Dark Knight Rises           7.6        9106  \n4                               John Carter           6.1        2124  ",
      "text/html": "<div>\n<style scoped>\n    .dataframe tbody tr th:only-of-type {\n        vertical-align: middle;\n    }\n\n    .dataframe tbody tr th {\n        vertical-align: top;\n    }\n\n    .dataframe thead th {\n        text-align: right;\n    }\n</style>\n<table border=\"1\" class=\"dataframe\">\n  <thead>\n    <tr style=\"text-align: right;\">\n      <th></th>\n      <th>budget</th>\n      <th>genres</th>\n      <th>homepage</th>\n      <th>id</th>\n      <th>keywords</th>\n      <th>original_language</th>\n      <th>original_title</th>\n      <th>overview</th>\n      <th>popularity</th>\n      <th>production_companies</th>\n      <th>production_countries</th>\n      <th>release_date</th>\n      <th>revenue</th>\n      <th>runtime</th>\n      <th>spoken_languages</th>\n      <th>status</th>\n      <th>tagline</th>\n      <th>title</th>\n      <th>vote_average</th>\n      <th>vote_count</th>\n    </tr>\n  </thead>\n  <tbody>\n    <tr>\n      <th>0</th>\n      <td>237000000</td>\n      <td>[{\"id\": 28, \"name\": \"Action\"}, {\"id\": 12, \"nam...</td>\n      <td>http://www.avatarmovie.com/</td>\n      <td>19995</td>\n      <td>[{\"id\": 1463, \"name\": \"culture clash\"}, {\"id\":...</td>\n      <td>en</td>\n      <td>Avatar</td>\n      <td>In the 22nd century, a paraplegic Marine is di...</td>\n      <td>150.437577</td>\n      <td>[{\"name\": \"Ingenious Film Partners\", \"id\": 289...</td>\n      <td>[{\"iso_3166_1\": \"US\", \"name\": \"United States o...</td>\n      <td>10-12-2009</td>\n      <td>2787965087</td>\n      <td>162.0</td>\n      <td>[{\"iso_639_1\": \"en\", \"name\": \"English\"}, {\"iso...</td>\n      <td>Released</td>\n      <td>Enter the World of Pandora.</td>\n      <td>Avatar</td>\n      <td>7.2</td>\n      <td>11800</td>\n    </tr>\n    <tr>\n      <th>1</th>\n      <td>300000000</td>\n      <td>[{\"id\": 12, \"name\": \"Adventure\"}, {\"id\": 14, \"...</td>\n      <td>http://disney.go.com/disneypictures/pirates/</td>\n      <td>285</td>\n      <td>[{\"id\": 270, \"name\": \"ocean\"}, {\"id\": 726, \"na...</td>\n      <td>en</td>\n      <td>Pirates of the Caribbean: At World's End</td>\n      <td>Captain Barbossa, long believed to be dead, ha...</td>\n      <td>139.082615</td>\n      <td>[{\"name\": \"Walt Disney Pictures\", \"id\": 2}, {\"...</td>\n      <td>[{\"iso_3166_1\": \"US\", \"name\": \"United States o...</td>\n      <td>19-05-2007</td>\n      <td>961000000</td>\n      <td>169.0</td>\n      <td>[{\"iso_639_1\": \"en\", \"name\": \"English\"}]</td>\n      <td>Released</td>\n      <td>At the end of the world, the adventure begins.</td>\n      <td>Pirates of the Caribbean: At World's End</td>\n      <td>6.9</td>\n      <td>4500</td>\n    </tr>\n    <tr>\n      <th>2</th>\n      <td>245000000</td>\n      <td>[{\"id\": 28, \"name\": \"Action\"}, {\"id\": 12, \"nam...</td>\n      <td>http://www.sonypictures.com/movies/spectre/</td>\n      <td>206647</td>\n      <td>[{\"id\": 470, \"name\": \"spy\"}, {\"id\": 818, \"name...</td>\n      <td>en</td>\n      <td>Spectre</td>\n      <td>A cryptic message from Bond’s past sends him o...</td>\n      <td>107.376788</td>\n      <td>[{\"name\": \"Columbia Pictures\", \"id\": 5}, {\"nam...</td>\n      <td>[{\"iso_3166_1\": \"GB\", \"name\": \"United Kingdom\"...</td>\n      <td>26-10-2015</td>\n      <td>880674609</td>\n      <td>148.0</td>\n      <td>[{\"iso_639_1\": \"fr\", \"name\": \"Fran\\u00e7ais\"},...</td>\n      <td>Released</td>\n      <td>A Plan No One Escapes</td>\n      <td>Spectre</td>\n      <td>6.3</td>\n      <td>4466</td>\n    </tr>\n    <tr>\n      <th>3</th>\n      <td>250000000</td>\n      <td>[{\"id\": 28, \"name\": \"Action\"}, {\"id\": 80, \"nam...</td>\n      <td>http://www.thedarkknightrises.com/</td>\n      <td>49026</td>\n      <td>[{\"id\": 849, \"name\": \"dc comics\"}, {\"id\": 853,...</td>\n      <td>en</td>\n      <td>The Dark Knight Rises</td>\n      <td>Following the death of District Attorney Harve...</td>\n      <td>112.312950</td>\n      <td>[{\"name\": \"Legendary Pictures\", \"id\": 923}, {\"...</td>\n      <td>[{\"iso_3166_1\": \"US\", \"name\": \"United States o...</td>\n      <td>16-07-2012</td>\n      <td>1084939099</td>\n      <td>165.0</td>\n      <td>[{\"iso_639_1\": \"en\", \"name\": \"English\"}]</td>\n      <td>Released</td>\n      <td>The Legend Ends</td>\n      <td>The Dark Knight Rises</td>\n      <td>7.6</td>\n      <td>9106</td>\n    </tr>\n    <tr>\n      <th>4</th>\n      <td>260000000</td>\n      <td>[{\"id\": 28, \"name\": \"Action\"}, {\"id\": 12, \"nam...</td>\n      <td>http://movies.disney.com/john-carter</td>\n      <td>49529</td>\n      <td>[{\"id\": 818, \"name\": \"based on novel\"}, {\"id\":...</td>\n      <td>en</td>\n      <td>John Carter</td>\n      <td>John Carter is a war-weary, former military ca...</td>\n      <td>43.926995</td>\n      <td>[{\"name\": \"Walt Disney Pictures\", \"id\": 2}]</td>\n      <td>[{\"iso_3166_1\": \"US\", \"name\": \"United States o...</td>\n      <td>07-03-2012</td>\n      <td>284139100</td>\n      <td>132.0</td>\n      <td>[{\"iso_639_1\": \"en\", \"name\": \"English\"}]</td>\n      <td>Released</td>\n      <td>Lost in our world, found in another.</td>\n      <td>John Carter</td>\n      <td>6.1</td>\n      <td>2124</td>\n    </tr>\n  </tbody>\n</table>\n</div>"
     },
     "execution_count": 3,
     "metadata": {},
     "output_type": "execute_result"
    }
   ],
   "source": [
    "movies.head()"
   ],
   "metadata": {
    "collapsed": false,
    "ExecuteTime": {
     "end_time": "2023-11-06T19:13:05.245864400Z",
     "start_time": "2023-11-06T19:13:05.225972300Z"
    }
   }
  },
  {
   "cell_type": "code",
   "execution_count": 4,
   "outputs": [
    {
     "data": {
      "text/plain": "   movie_id                                     title  \\\n0     19995                                    Avatar   \n1       285  Pirates of the Caribbean: At World's End   \n2    206647                                   Spectre   \n3     49026                     The Dark Knight Rises   \n4     49529                               John Carter   \n\n                                                cast  \\\n0  [{\"cast_id\": 242, \"character\": \"Jake Sully\", \"...   \n1  [{\"cast_id\": 4, \"character\": \"Captain Jack Spa...   \n2  [{\"cast_id\": 1, \"character\": \"James Bond\", \"cr...   \n3  [{\"cast_id\": 2, \"character\": \"Bruce Wayne / Ba...   \n4  [{\"cast_id\": 5, \"character\": \"John Carter\", \"c...   \n\n                                                crew  \n0  [{\"credit_id\": \"52fe48009251416c750aca23\", \"de...  \n1  [{\"credit_id\": \"52fe4232c3a36847f800b579\", \"de...  \n2  [{\"credit_id\": \"54805967c3a36829b5002c41\", \"de...  \n3  [{\"credit_id\": \"52fe4781c3a36847f81398c3\", \"de...  \n4  [{\"credit_id\": \"52fe479ac3a36847f813eaa3\", \"de...  ",
      "text/html": "<div>\n<style scoped>\n    .dataframe tbody tr th:only-of-type {\n        vertical-align: middle;\n    }\n\n    .dataframe tbody tr th {\n        vertical-align: top;\n    }\n\n    .dataframe thead th {\n        text-align: right;\n    }\n</style>\n<table border=\"1\" class=\"dataframe\">\n  <thead>\n    <tr style=\"text-align: right;\">\n      <th></th>\n      <th>movie_id</th>\n      <th>title</th>\n      <th>cast</th>\n      <th>crew</th>\n    </tr>\n  </thead>\n  <tbody>\n    <tr>\n      <th>0</th>\n      <td>19995</td>\n      <td>Avatar</td>\n      <td>[{\"cast_id\": 242, \"character\": \"Jake Sully\", \"...</td>\n      <td>[{\"credit_id\": \"52fe48009251416c750aca23\", \"de...</td>\n    </tr>\n    <tr>\n      <th>1</th>\n      <td>285</td>\n      <td>Pirates of the Caribbean: At World's End</td>\n      <td>[{\"cast_id\": 4, \"character\": \"Captain Jack Spa...</td>\n      <td>[{\"credit_id\": \"52fe4232c3a36847f800b579\", \"de...</td>\n    </tr>\n    <tr>\n      <th>2</th>\n      <td>206647</td>\n      <td>Spectre</td>\n      <td>[{\"cast_id\": 1, \"character\": \"James Bond\", \"cr...</td>\n      <td>[{\"credit_id\": \"54805967c3a36829b5002c41\", \"de...</td>\n    </tr>\n    <tr>\n      <th>3</th>\n      <td>49026</td>\n      <td>The Dark Knight Rises</td>\n      <td>[{\"cast_id\": 2, \"character\": \"Bruce Wayne / Ba...</td>\n      <td>[{\"credit_id\": \"52fe4781c3a36847f81398c3\", \"de...</td>\n    </tr>\n    <tr>\n      <th>4</th>\n      <td>49529</td>\n      <td>John Carter</td>\n      <td>[{\"cast_id\": 5, \"character\": \"John Carter\", \"c...</td>\n      <td>[{\"credit_id\": \"52fe479ac3a36847f813eaa3\", \"de...</td>\n    </tr>\n  </tbody>\n</table>\n</div>"
     },
     "execution_count": 4,
     "metadata": {},
     "output_type": "execute_result"
    }
   ],
   "source": [
    "credit.head()"
   ],
   "metadata": {
    "collapsed": false,
    "ExecuteTime": {
     "end_time": "2023-11-06T19:13:07.326902500Z",
     "start_time": "2023-11-06T19:13:07.299724600Z"
    }
   }
  },
  {
   "cell_type": "code",
   "execution_count": 5,
   "outputs": [],
   "source": [
    "movies_dataset = pd.merge(movies, credit, on='title')"
   ],
   "metadata": {
    "collapsed": false,
    "ExecuteTime": {
     "end_time": "2023-11-06T19:13:08.307535Z",
     "start_time": "2023-11-06T19:13:08.283286500Z"
    }
   }
  },
  {
   "cell_type": "code",
   "execution_count": 6,
   "outputs": [
    {
     "data": {
      "text/plain": "      budget                                             genres  \\\n0  237000000  [{\"id\": 28, \"name\": \"Action\"}, {\"id\": 12, \"nam...   \n1  300000000  [{\"id\": 12, \"name\": \"Adventure\"}, {\"id\": 14, \"...   \n2  245000000  [{\"id\": 28, \"name\": \"Action\"}, {\"id\": 12, \"nam...   \n3  250000000  [{\"id\": 28, \"name\": \"Action\"}, {\"id\": 80, \"nam...   \n4  260000000  [{\"id\": 28, \"name\": \"Action\"}, {\"id\": 12, \"nam...   \n\n                                       homepage      id  \\\n0                   http://www.avatarmovie.com/   19995   \n1  http://disney.go.com/disneypictures/pirates/     285   \n2   http://www.sonypictures.com/movies/spectre/  206647   \n3            http://www.thedarkknightrises.com/   49026   \n4          http://movies.disney.com/john-carter   49529   \n\n                                            keywords original_language  \\\n0  [{\"id\": 1463, \"name\": \"culture clash\"}, {\"id\":...                en   \n1  [{\"id\": 270, \"name\": \"ocean\"}, {\"id\": 726, \"na...                en   \n2  [{\"id\": 470, \"name\": \"spy\"}, {\"id\": 818, \"name...                en   \n3  [{\"id\": 849, \"name\": \"dc comics\"}, {\"id\": 853,...                en   \n4  [{\"id\": 818, \"name\": \"based on novel\"}, {\"id\":...                en   \n\n                             original_title  \\\n0                                    Avatar   \n1  Pirates of the Caribbean: At World's End   \n2                                   Spectre   \n3                     The Dark Knight Rises   \n4                               John Carter   \n\n                                            overview  popularity  \\\n0  In the 22nd century, a paraplegic Marine is di...  150.437577   \n1  Captain Barbossa, long believed to be dead, ha...  139.082615   \n2  A cryptic message from Bond’s past sends him o...  107.376788   \n3  Following the death of District Attorney Harve...  112.312950   \n4  John Carter is a war-weary, former military ca...   43.926995   \n\n                                production_companies  ... runtime  \\\n0  [{\"name\": \"Ingenious Film Partners\", \"id\": 289...  ...   162.0   \n1  [{\"name\": \"Walt Disney Pictures\", \"id\": 2}, {\"...  ...   169.0   \n2  [{\"name\": \"Columbia Pictures\", \"id\": 5}, {\"nam...  ...   148.0   \n3  [{\"name\": \"Legendary Pictures\", \"id\": 923}, {\"...  ...   165.0   \n4        [{\"name\": \"Walt Disney Pictures\", \"id\": 2}]  ...   132.0   \n\n                                    spoken_languages    status  \\\n0  [{\"iso_639_1\": \"en\", \"name\": \"English\"}, {\"iso...  Released   \n1           [{\"iso_639_1\": \"en\", \"name\": \"English\"}]  Released   \n2  [{\"iso_639_1\": \"fr\", \"name\": \"Fran\\u00e7ais\"},...  Released   \n3           [{\"iso_639_1\": \"en\", \"name\": \"English\"}]  Released   \n4           [{\"iso_639_1\": \"en\", \"name\": \"English\"}]  Released   \n\n                                          tagline  \\\n0                     Enter the World of Pandora.   \n1  At the end of the world, the adventure begins.   \n2                           A Plan No One Escapes   \n3                                 The Legend Ends   \n4            Lost in our world, found in another.   \n\n                                      title vote_average vote_count movie_id  \\\n0                                    Avatar          7.2      11800    19995   \n1  Pirates of the Caribbean: At World's End          6.9       4500      285   \n2                                   Spectre          6.3       4466   206647   \n3                     The Dark Knight Rises          7.6       9106    49026   \n4                               John Carter          6.1       2124    49529   \n\n                                                cast  \\\n0  [{\"cast_id\": 242, \"character\": \"Jake Sully\", \"...   \n1  [{\"cast_id\": 4, \"character\": \"Captain Jack Spa...   \n2  [{\"cast_id\": 1, \"character\": \"James Bond\", \"cr...   \n3  [{\"cast_id\": 2, \"character\": \"Bruce Wayne / Ba...   \n4  [{\"cast_id\": 5, \"character\": \"John Carter\", \"c...   \n\n                                                crew  \n0  [{\"credit_id\": \"52fe48009251416c750aca23\", \"de...  \n1  [{\"credit_id\": \"52fe4232c3a36847f800b579\", \"de...  \n2  [{\"credit_id\": \"54805967c3a36829b5002c41\", \"de...  \n3  [{\"credit_id\": \"52fe4781c3a36847f81398c3\", \"de...  \n4  [{\"credit_id\": \"52fe479ac3a36847f813eaa3\", \"de...  \n\n[5 rows x 23 columns]",
      "text/html": "<div>\n<style scoped>\n    .dataframe tbody tr th:only-of-type {\n        vertical-align: middle;\n    }\n\n    .dataframe tbody tr th {\n        vertical-align: top;\n    }\n\n    .dataframe thead th {\n        text-align: right;\n    }\n</style>\n<table border=\"1\" class=\"dataframe\">\n  <thead>\n    <tr style=\"text-align: right;\">\n      <th></th>\n      <th>budget</th>\n      <th>genres</th>\n      <th>homepage</th>\n      <th>id</th>\n      <th>keywords</th>\n      <th>original_language</th>\n      <th>original_title</th>\n      <th>overview</th>\n      <th>popularity</th>\n      <th>production_companies</th>\n      <th>...</th>\n      <th>runtime</th>\n      <th>spoken_languages</th>\n      <th>status</th>\n      <th>tagline</th>\n      <th>title</th>\n      <th>vote_average</th>\n      <th>vote_count</th>\n      <th>movie_id</th>\n      <th>cast</th>\n      <th>crew</th>\n    </tr>\n  </thead>\n  <tbody>\n    <tr>\n      <th>0</th>\n      <td>237000000</td>\n      <td>[{\"id\": 28, \"name\": \"Action\"}, {\"id\": 12, \"nam...</td>\n      <td>http://www.avatarmovie.com/</td>\n      <td>19995</td>\n      <td>[{\"id\": 1463, \"name\": \"culture clash\"}, {\"id\":...</td>\n      <td>en</td>\n      <td>Avatar</td>\n      <td>In the 22nd century, a paraplegic Marine is di...</td>\n      <td>150.437577</td>\n      <td>[{\"name\": \"Ingenious Film Partners\", \"id\": 289...</td>\n      <td>...</td>\n      <td>162.0</td>\n      <td>[{\"iso_639_1\": \"en\", \"name\": \"English\"}, {\"iso...</td>\n      <td>Released</td>\n      <td>Enter the World of Pandora.</td>\n      <td>Avatar</td>\n      <td>7.2</td>\n      <td>11800</td>\n      <td>19995</td>\n      <td>[{\"cast_id\": 242, \"character\": \"Jake Sully\", \"...</td>\n      <td>[{\"credit_id\": \"52fe48009251416c750aca23\", \"de...</td>\n    </tr>\n    <tr>\n      <th>1</th>\n      <td>300000000</td>\n      <td>[{\"id\": 12, \"name\": \"Adventure\"}, {\"id\": 14, \"...</td>\n      <td>http://disney.go.com/disneypictures/pirates/</td>\n      <td>285</td>\n      <td>[{\"id\": 270, \"name\": \"ocean\"}, {\"id\": 726, \"na...</td>\n      <td>en</td>\n      <td>Pirates of the Caribbean: At World's End</td>\n      <td>Captain Barbossa, long believed to be dead, ha...</td>\n      <td>139.082615</td>\n      <td>[{\"name\": \"Walt Disney Pictures\", \"id\": 2}, {\"...</td>\n      <td>...</td>\n      <td>169.0</td>\n      <td>[{\"iso_639_1\": \"en\", \"name\": \"English\"}]</td>\n      <td>Released</td>\n      <td>At the end of the world, the adventure begins.</td>\n      <td>Pirates of the Caribbean: At World's End</td>\n      <td>6.9</td>\n      <td>4500</td>\n      <td>285</td>\n      <td>[{\"cast_id\": 4, \"character\": \"Captain Jack Spa...</td>\n      <td>[{\"credit_id\": \"52fe4232c3a36847f800b579\", \"de...</td>\n    </tr>\n    <tr>\n      <th>2</th>\n      <td>245000000</td>\n      <td>[{\"id\": 28, \"name\": \"Action\"}, {\"id\": 12, \"nam...</td>\n      <td>http://www.sonypictures.com/movies/spectre/</td>\n      <td>206647</td>\n      <td>[{\"id\": 470, \"name\": \"spy\"}, {\"id\": 818, \"name...</td>\n      <td>en</td>\n      <td>Spectre</td>\n      <td>A cryptic message from Bond’s past sends him o...</td>\n      <td>107.376788</td>\n      <td>[{\"name\": \"Columbia Pictures\", \"id\": 5}, {\"nam...</td>\n      <td>...</td>\n      <td>148.0</td>\n      <td>[{\"iso_639_1\": \"fr\", \"name\": \"Fran\\u00e7ais\"},...</td>\n      <td>Released</td>\n      <td>A Plan No One Escapes</td>\n      <td>Spectre</td>\n      <td>6.3</td>\n      <td>4466</td>\n      <td>206647</td>\n      <td>[{\"cast_id\": 1, \"character\": \"James Bond\", \"cr...</td>\n      <td>[{\"credit_id\": \"54805967c3a36829b5002c41\", \"de...</td>\n    </tr>\n    <tr>\n      <th>3</th>\n      <td>250000000</td>\n      <td>[{\"id\": 28, \"name\": \"Action\"}, {\"id\": 80, \"nam...</td>\n      <td>http://www.thedarkknightrises.com/</td>\n      <td>49026</td>\n      <td>[{\"id\": 849, \"name\": \"dc comics\"}, {\"id\": 853,...</td>\n      <td>en</td>\n      <td>The Dark Knight Rises</td>\n      <td>Following the death of District Attorney Harve...</td>\n      <td>112.312950</td>\n      <td>[{\"name\": \"Legendary Pictures\", \"id\": 923}, {\"...</td>\n      <td>...</td>\n      <td>165.0</td>\n      <td>[{\"iso_639_1\": \"en\", \"name\": \"English\"}]</td>\n      <td>Released</td>\n      <td>The Legend Ends</td>\n      <td>The Dark Knight Rises</td>\n      <td>7.6</td>\n      <td>9106</td>\n      <td>49026</td>\n      <td>[{\"cast_id\": 2, \"character\": \"Bruce Wayne / Ba...</td>\n      <td>[{\"credit_id\": \"52fe4781c3a36847f81398c3\", \"de...</td>\n    </tr>\n    <tr>\n      <th>4</th>\n      <td>260000000</td>\n      <td>[{\"id\": 28, \"name\": \"Action\"}, {\"id\": 12, \"nam...</td>\n      <td>http://movies.disney.com/john-carter</td>\n      <td>49529</td>\n      <td>[{\"id\": 818, \"name\": \"based on novel\"}, {\"id\":...</td>\n      <td>en</td>\n      <td>John Carter</td>\n      <td>John Carter is a war-weary, former military ca...</td>\n      <td>43.926995</td>\n      <td>[{\"name\": \"Walt Disney Pictures\", \"id\": 2}]</td>\n      <td>...</td>\n      <td>132.0</td>\n      <td>[{\"iso_639_1\": \"en\", \"name\": \"English\"}]</td>\n      <td>Released</td>\n      <td>Lost in our world, found in another.</td>\n      <td>John Carter</td>\n      <td>6.1</td>\n      <td>2124</td>\n      <td>49529</td>\n      <td>[{\"cast_id\": 5, \"character\": \"John Carter\", \"c...</td>\n      <td>[{\"credit_id\": \"52fe479ac3a36847f813eaa3\", \"de...</td>\n    </tr>\n  </tbody>\n</table>\n<p>5 rows × 23 columns</p>\n</div>"
     },
     "execution_count": 6,
     "metadata": {},
     "output_type": "execute_result"
    }
   ],
   "source": [
    "movies_dataset.head()"
   ],
   "metadata": {
    "collapsed": false,
    "ExecuteTime": {
     "end_time": "2023-11-06T19:13:09.474309400Z",
     "start_time": "2023-11-06T19:13:09.427509900Z"
    }
   }
  },
  {
   "cell_type": "markdown",
   "source": [
    "#### Feature Selection\n",
    "genres\n",
    "id\n",
    "keywords\n",
    "overview\n",
    "title\n",
    "cast\n",
    "crew\n",
    "popularity"
   ],
   "metadata": {
    "collapsed": false
   }
  },
  {
   "cell_type": "code",
   "execution_count": 7,
   "outputs": [],
   "source": [
    "movies_dataset = movies_dataset[['movie_id', 'title', 'overview', 'genres', 'keywords', 'cast', 'crew', 'popularity']]"
   ],
   "metadata": {
    "collapsed": false,
    "ExecuteTime": {
     "end_time": "2023-11-06T19:13:11.970680200Z",
     "start_time": "2023-11-06T19:13:11.964743700Z"
    }
   }
  },
  {
   "cell_type": "code",
   "execution_count": 8,
   "outputs": [
    {
     "data": {
      "text/plain": "   movie_id                                     title  \\\n0     19995                                    Avatar   \n1       285  Pirates of the Caribbean: At World's End   \n2    206647                                   Spectre   \n3     49026                     The Dark Knight Rises   \n4     49529                               John Carter   \n\n                                            overview  \\\n0  In the 22nd century, a paraplegic Marine is di...   \n1  Captain Barbossa, long believed to be dead, ha...   \n2  A cryptic message from Bond’s past sends him o...   \n3  Following the death of District Attorney Harve...   \n4  John Carter is a war-weary, former military ca...   \n\n                                              genres  \\\n0  [{\"id\": 28, \"name\": \"Action\"}, {\"id\": 12, \"nam...   \n1  [{\"id\": 12, \"name\": \"Adventure\"}, {\"id\": 14, \"...   \n2  [{\"id\": 28, \"name\": \"Action\"}, {\"id\": 12, \"nam...   \n3  [{\"id\": 28, \"name\": \"Action\"}, {\"id\": 80, \"nam...   \n4  [{\"id\": 28, \"name\": \"Action\"}, {\"id\": 12, \"nam...   \n\n                                            keywords  \\\n0  [{\"id\": 1463, \"name\": \"culture clash\"}, {\"id\":...   \n1  [{\"id\": 270, \"name\": \"ocean\"}, {\"id\": 726, \"na...   \n2  [{\"id\": 470, \"name\": \"spy\"}, {\"id\": 818, \"name...   \n3  [{\"id\": 849, \"name\": \"dc comics\"}, {\"id\": 853,...   \n4  [{\"id\": 818, \"name\": \"based on novel\"}, {\"id\":...   \n\n                                                cast  \\\n0  [{\"cast_id\": 242, \"character\": \"Jake Sully\", \"...   \n1  [{\"cast_id\": 4, \"character\": \"Captain Jack Spa...   \n2  [{\"cast_id\": 1, \"character\": \"James Bond\", \"cr...   \n3  [{\"cast_id\": 2, \"character\": \"Bruce Wayne / Ba...   \n4  [{\"cast_id\": 5, \"character\": \"John Carter\", \"c...   \n\n                                                crew  popularity  \n0  [{\"credit_id\": \"52fe48009251416c750aca23\", \"de...  150.437577  \n1  [{\"credit_id\": \"52fe4232c3a36847f800b579\", \"de...  139.082615  \n2  [{\"credit_id\": \"54805967c3a36829b5002c41\", \"de...  107.376788  \n3  [{\"credit_id\": \"52fe4781c3a36847f81398c3\", \"de...  112.312950  \n4  [{\"credit_id\": \"52fe479ac3a36847f813eaa3\", \"de...   43.926995  ",
      "text/html": "<div>\n<style scoped>\n    .dataframe tbody tr th:only-of-type {\n        vertical-align: middle;\n    }\n\n    .dataframe tbody tr th {\n        vertical-align: top;\n    }\n\n    .dataframe thead th {\n        text-align: right;\n    }\n</style>\n<table border=\"1\" class=\"dataframe\">\n  <thead>\n    <tr style=\"text-align: right;\">\n      <th></th>\n      <th>movie_id</th>\n      <th>title</th>\n      <th>overview</th>\n      <th>genres</th>\n      <th>keywords</th>\n      <th>cast</th>\n      <th>crew</th>\n      <th>popularity</th>\n    </tr>\n  </thead>\n  <tbody>\n    <tr>\n      <th>0</th>\n      <td>19995</td>\n      <td>Avatar</td>\n      <td>In the 22nd century, a paraplegic Marine is di...</td>\n      <td>[{\"id\": 28, \"name\": \"Action\"}, {\"id\": 12, \"nam...</td>\n      <td>[{\"id\": 1463, \"name\": \"culture clash\"}, {\"id\":...</td>\n      <td>[{\"cast_id\": 242, \"character\": \"Jake Sully\", \"...</td>\n      <td>[{\"credit_id\": \"52fe48009251416c750aca23\", \"de...</td>\n      <td>150.437577</td>\n    </tr>\n    <tr>\n      <th>1</th>\n      <td>285</td>\n      <td>Pirates of the Caribbean: At World's End</td>\n      <td>Captain Barbossa, long believed to be dead, ha...</td>\n      <td>[{\"id\": 12, \"name\": \"Adventure\"}, {\"id\": 14, \"...</td>\n      <td>[{\"id\": 270, \"name\": \"ocean\"}, {\"id\": 726, \"na...</td>\n      <td>[{\"cast_id\": 4, \"character\": \"Captain Jack Spa...</td>\n      <td>[{\"credit_id\": \"52fe4232c3a36847f800b579\", \"de...</td>\n      <td>139.082615</td>\n    </tr>\n    <tr>\n      <th>2</th>\n      <td>206647</td>\n      <td>Spectre</td>\n      <td>A cryptic message from Bond’s past sends him o...</td>\n      <td>[{\"id\": 28, \"name\": \"Action\"}, {\"id\": 12, \"nam...</td>\n      <td>[{\"id\": 470, \"name\": \"spy\"}, {\"id\": 818, \"name...</td>\n      <td>[{\"cast_id\": 1, \"character\": \"James Bond\", \"cr...</td>\n      <td>[{\"credit_id\": \"54805967c3a36829b5002c41\", \"de...</td>\n      <td>107.376788</td>\n    </tr>\n    <tr>\n      <th>3</th>\n      <td>49026</td>\n      <td>The Dark Knight Rises</td>\n      <td>Following the death of District Attorney Harve...</td>\n      <td>[{\"id\": 28, \"name\": \"Action\"}, {\"id\": 80, \"nam...</td>\n      <td>[{\"id\": 849, \"name\": \"dc comics\"}, {\"id\": 853,...</td>\n      <td>[{\"cast_id\": 2, \"character\": \"Bruce Wayne / Ba...</td>\n      <td>[{\"credit_id\": \"52fe4781c3a36847f81398c3\", \"de...</td>\n      <td>112.312950</td>\n    </tr>\n    <tr>\n      <th>4</th>\n      <td>49529</td>\n      <td>John Carter</td>\n      <td>John Carter is a war-weary, former military ca...</td>\n      <td>[{\"id\": 28, \"name\": \"Action\"}, {\"id\": 12, \"nam...</td>\n      <td>[{\"id\": 818, \"name\": \"based on novel\"}, {\"id\":...</td>\n      <td>[{\"cast_id\": 5, \"character\": \"John Carter\", \"c...</td>\n      <td>[{\"credit_id\": \"52fe479ac3a36847f813eaa3\", \"de...</td>\n      <td>43.926995</td>\n    </tr>\n  </tbody>\n</table>\n</div>"
     },
     "execution_count": 8,
     "metadata": {},
     "output_type": "execute_result"
    }
   ],
   "source": [
    "movies_dataset.head()"
   ],
   "metadata": {
    "collapsed": false,
    "ExecuteTime": {
     "end_time": "2023-11-06T19:13:13.817901300Z",
     "start_time": "2023-11-06T19:13:13.787541100Z"
    }
   }
  },
  {
   "cell_type": "markdown",
   "source": [
    "## Data Preprocessing"
   ],
   "metadata": {
    "collapsed": false
   }
  },
  {
   "cell_type": "markdown",
   "source": [
    "### Handling Missing Values"
   ],
   "metadata": {
    "collapsed": false
   }
  },
  {
   "cell_type": "code",
   "execution_count": 9,
   "outputs": [
    {
     "data": {
      "text/plain": "movie_id      0\ntitle         0\noverview      3\ngenres        0\nkeywords      0\ncast          0\ncrew          0\npopularity    0\ndtype: int64"
     },
     "execution_count": 9,
     "metadata": {},
     "output_type": "execute_result"
    }
   ],
   "source": [
    "movies_dataset.isnull().sum()"
   ],
   "metadata": {
    "collapsed": false,
    "ExecuteTime": {
     "end_time": "2023-11-06T19:13:15.800643200Z",
     "start_time": "2023-11-06T19:13:15.781561300Z"
    }
   }
  },
  {
   "cell_type": "code",
   "execution_count": 10,
   "outputs": [],
   "source": [
    "movies_dataset.dropna(inplace=True)"
   ],
   "metadata": {
    "collapsed": false,
    "ExecuteTime": {
     "end_time": "2023-11-06T19:13:17.380126200Z",
     "start_time": "2023-11-06T19:13:17.364163Z"
    }
   }
  },
  {
   "cell_type": "code",
   "execution_count": 11,
   "outputs": [
    {
     "data": {
      "text/plain": "0"
     },
     "execution_count": 11,
     "metadata": {},
     "output_type": "execute_result"
    }
   ],
   "source": [
    "movies_dataset.duplicated().sum()"
   ],
   "metadata": {
    "collapsed": false,
    "ExecuteTime": {
     "end_time": "2023-11-06T19:13:18.477784700Z",
     "start_time": "2023-11-06T19:13:18.392248Z"
    }
   }
  },
  {
   "cell_type": "code",
   "execution_count": 12,
   "outputs": [
    {
     "data": {
      "text/plain": "'[{\"id\": 28, \"name\": \"Action\"}, {\"id\": 12, \"name\": \"Adventure\"}, {\"id\": 14, \"name\": \"Fantasy\"}, {\"id\": 878, \"name\": \"Science Fiction\"}]'"
     },
     "execution_count": 12,
     "metadata": {},
     "output_type": "execute_result"
    }
   ],
   "source": [
    "movies_dataset.iloc[0]['genres']"
   ],
   "metadata": {
    "collapsed": false,
    "ExecuteTime": {
     "end_time": "2023-11-06T19:13:19.197389400Z",
     "start_time": "2023-11-06T19:13:19.128563500Z"
    }
   }
  },
  {
   "cell_type": "markdown",
   "source": [
    "### Feature Engineering"
   ],
   "metadata": {
    "collapsed": false
   }
  },
  {
   "cell_type": "markdown",
   "source": [
    "#### Converting Genres, Keywords, Cast and Crew into a list for tag generation"
   ],
   "metadata": {
    "collapsed": false
   }
  },
  {
   "cell_type": "code",
   "execution_count": 13,
   "outputs": [],
   "source": [
    "import ast\n",
    "\n",
    "\n",
    "def createtags(x):\n",
    "    l = []\n",
    "    for i in ast.literal_eval(x):\n",
    "        l.append(i['name'])\n",
    "    return l"
   ],
   "metadata": {
    "collapsed": false,
    "ExecuteTime": {
     "end_time": "2023-11-06T19:13:21.518447600Z",
     "start_time": "2023-11-06T19:13:21.513446Z"
    }
   }
  },
  {
   "cell_type": "code",
   "execution_count": 14,
   "outputs": [
    {
     "data": {
      "text/plain": "0       [Action, Adventure, Fantasy, Science Fiction]\n1                        [Adventure, Fantasy, Action]\n2                          [Action, Adventure, Crime]\n3                    [Action, Crime, Drama, Thriller]\n4                [Action, Adventure, Science Fiction]\n                            ...                      \n4803                        [Action, Crime, Thriller]\n4804                                [Comedy, Romance]\n4805               [Comedy, Drama, Romance, TV Movie]\n4806                                               []\n4807                                    [Documentary]\nName: genres, Length: 4805, dtype: object"
     },
     "execution_count": 14,
     "metadata": {},
     "output_type": "execute_result"
    }
   ],
   "source": [
    "movies_dataset['genres'] = movies_dataset['genres'].apply(createtags)\n",
    "movies_dataset['genres']"
   ],
   "metadata": {
    "collapsed": false,
    "ExecuteTime": {
     "end_time": "2023-11-06T19:13:22.253530300Z",
     "start_time": "2023-11-06T19:13:22.104503Z"
    }
   }
  },
  {
   "cell_type": "code",
   "execution_count": 15,
   "outputs": [
    {
     "data": {
      "text/plain": "0       [culture clash, future, space war, space colon...\n1       [ocean, drug abuse, exotic island, east india ...\n2       [spy, based on novel, secret agent, sequel, mi...\n3       [dc comics, crime fighter, terrorist, secret i...\n4       [based on novel, mars, medallion, space travel...\n                              ...                        \n4803    [united states–mexico barrier, legs, arms, pap...\n4804                                                   []\n4805    [date, love at first sight, narration, investi...\n4806                                                   []\n4807            [obsession, camcorder, crush, dream girl]\nName: keywords, Length: 4805, dtype: object"
     },
     "execution_count": 15,
     "metadata": {},
     "output_type": "execute_result"
    }
   ],
   "source": [
    "movies_dataset['keywords'] = movies_dataset['keywords'].apply(createtags)\n",
    "movies_dataset['keywords']"
   ],
   "metadata": {
    "collapsed": false,
    "ExecuteTime": {
     "end_time": "2023-11-06T19:13:23.259956600Z",
     "start_time": "2023-11-06T19:13:22.965737800Z"
    }
   }
  },
  {
   "cell_type": "code",
   "execution_count": 16,
   "outputs": [
    {
     "data": {
      "text/plain": "0        [Sam Worthington, Zoe Saldana, Sigourney Weaver]\n1           [Johnny Depp, Orlando Bloom, Keira Knightley]\n2            [Daniel Craig, Christoph Waltz, Léa Seydoux]\n3            [Christian Bale, Michael Caine, Gary Oldman]\n4          [Taylor Kitsch, Lynn Collins, Samantha Morton]\n                              ...                        \n4803    [Carlos Gallardo, Jaime de Hoyos, Peter Marqua...\n4804         [Edward Burns, Kerry Bishé, Marsha Dietlein]\n4805           [Eric Mabius, Kristin Booth, Crystal Lowe]\n4806            [Daniel Henney, Eliza Coupe, Bill Paxton]\n4807    [Drew Barrymore, Brian Herzlinger, Corey Feldman]\nName: cast, Length: 4805, dtype: object"
     },
     "execution_count": 16,
     "metadata": {},
     "output_type": "execute_result"
    }
   ],
   "source": [
    "def top_three_cast(x):\n",
    "    l = []\n",
    "    cont = 0\n",
    "    for i in ast.literal_eval(x):\n",
    "        if cont == 3:\n",
    "            break\n",
    "        l.append(i['name'])\n",
    "        cont += 1\n",
    "    return l\n",
    "\n",
    "\n",
    "movies_dataset['cast'] = movies_dataset['cast'].apply(top_three_cast)\n",
    "movies_dataset['cast']"
   ],
   "metadata": {
    "collapsed": false,
    "ExecuteTime": {
     "end_time": "2023-11-06T19:13:26.527794Z",
     "start_time": "2023-11-06T19:13:24.167887200Z"
    }
   }
  },
  {
   "cell_type": "code",
   "execution_count": 17,
   "outputs": [
    {
     "data": {
      "text/plain": "0           [James Cameron]\n1          [Gore Verbinski]\n2              [Sam Mendes]\n3       [Christopher Nolan]\n4          [Andrew Stanton]\n               ...         \n4803     [Robert Rodriguez]\n4804         [Edward Burns]\n4805          [Scott Smith]\n4806          [Daniel Hsia]\n4807     [Brian Herzlinger]\nName: crew, Length: 4805, dtype: object"
     },
     "execution_count": 17,
     "metadata": {},
     "output_type": "execute_result"
    }
   ],
   "source": [
    "def director(x):\n",
    "    l = []\n",
    "    for i in ast.literal_eval(x):\n",
    "        if i['job'] == 'Director':\n",
    "            l.append(i['name'])\n",
    "            break\n",
    "    return l\n",
    "\n",
    "\n",
    "movies_dataset['crew'] = movies_dataset['crew'].apply(director)\n",
    "movies_dataset['crew']"
   ],
   "metadata": {
    "collapsed": false,
    "ExecuteTime": {
     "end_time": "2023-11-06T19:13:29.822762400Z",
     "start_time": "2023-11-06T19:13:26.919262400Z"
    }
   }
  },
  {
   "cell_type": "code",
   "execution_count": 18,
   "outputs": [
    {
     "data": {
      "text/plain": "   movie_id                                     title  \\\n0     19995                                    Avatar   \n1       285  Pirates of the Caribbean: At World's End   \n2    206647                                   Spectre   \n3     49026                     The Dark Knight Rises   \n4     49529                               John Carter   \n\n                                            overview  \\\n0  In the 22nd century, a paraplegic Marine is di...   \n1  Captain Barbossa, long believed to be dead, ha...   \n2  A cryptic message from Bond’s past sends him o...   \n3  Following the death of District Attorney Harve...   \n4  John Carter is a war-weary, former military ca...   \n\n                                          genres  \\\n0  [Action, Adventure, Fantasy, Science Fiction]   \n1                   [Adventure, Fantasy, Action]   \n2                     [Action, Adventure, Crime]   \n3               [Action, Crime, Drama, Thriller]   \n4           [Action, Adventure, Science Fiction]   \n\n                                            keywords  \\\n0  [culture clash, future, space war, space colon...   \n1  [ocean, drug abuse, exotic island, east india ...   \n2  [spy, based on novel, secret agent, sequel, mi...   \n3  [dc comics, crime fighter, terrorist, secret i...   \n4  [based on novel, mars, medallion, space travel...   \n\n                                               cast                 crew  \\\n0  [Sam Worthington, Zoe Saldana, Sigourney Weaver]      [James Cameron]   \n1     [Johnny Depp, Orlando Bloom, Keira Knightley]     [Gore Verbinski]   \n2      [Daniel Craig, Christoph Waltz, Léa Seydoux]         [Sam Mendes]   \n3      [Christian Bale, Michael Caine, Gary Oldman]  [Christopher Nolan]   \n4    [Taylor Kitsch, Lynn Collins, Samantha Morton]     [Andrew Stanton]   \n\n   popularity  \n0  150.437577  \n1  139.082615  \n2  107.376788  \n3  112.312950  \n4   43.926995  ",
      "text/html": "<div>\n<style scoped>\n    .dataframe tbody tr th:only-of-type {\n        vertical-align: middle;\n    }\n\n    .dataframe tbody tr th {\n        vertical-align: top;\n    }\n\n    .dataframe thead th {\n        text-align: right;\n    }\n</style>\n<table border=\"1\" class=\"dataframe\">\n  <thead>\n    <tr style=\"text-align: right;\">\n      <th></th>\n      <th>movie_id</th>\n      <th>title</th>\n      <th>overview</th>\n      <th>genres</th>\n      <th>keywords</th>\n      <th>cast</th>\n      <th>crew</th>\n      <th>popularity</th>\n    </tr>\n  </thead>\n  <tbody>\n    <tr>\n      <th>0</th>\n      <td>19995</td>\n      <td>Avatar</td>\n      <td>In the 22nd century, a paraplegic Marine is di...</td>\n      <td>[Action, Adventure, Fantasy, Science Fiction]</td>\n      <td>[culture clash, future, space war, space colon...</td>\n      <td>[Sam Worthington, Zoe Saldana, Sigourney Weaver]</td>\n      <td>[James Cameron]</td>\n      <td>150.437577</td>\n    </tr>\n    <tr>\n      <th>1</th>\n      <td>285</td>\n      <td>Pirates of the Caribbean: At World's End</td>\n      <td>Captain Barbossa, long believed to be dead, ha...</td>\n      <td>[Adventure, Fantasy, Action]</td>\n      <td>[ocean, drug abuse, exotic island, east india ...</td>\n      <td>[Johnny Depp, Orlando Bloom, Keira Knightley]</td>\n      <td>[Gore Verbinski]</td>\n      <td>139.082615</td>\n    </tr>\n    <tr>\n      <th>2</th>\n      <td>206647</td>\n      <td>Spectre</td>\n      <td>A cryptic message from Bond’s past sends him o...</td>\n      <td>[Action, Adventure, Crime]</td>\n      <td>[spy, based on novel, secret agent, sequel, mi...</td>\n      <td>[Daniel Craig, Christoph Waltz, Léa Seydoux]</td>\n      <td>[Sam Mendes]</td>\n      <td>107.376788</td>\n    </tr>\n    <tr>\n      <th>3</th>\n      <td>49026</td>\n      <td>The Dark Knight Rises</td>\n      <td>Following the death of District Attorney Harve...</td>\n      <td>[Action, Crime, Drama, Thriller]</td>\n      <td>[dc comics, crime fighter, terrorist, secret i...</td>\n      <td>[Christian Bale, Michael Caine, Gary Oldman]</td>\n      <td>[Christopher Nolan]</td>\n      <td>112.312950</td>\n    </tr>\n    <tr>\n      <th>4</th>\n      <td>49529</td>\n      <td>John Carter</td>\n      <td>John Carter is a war-weary, former military ca...</td>\n      <td>[Action, Adventure, Science Fiction]</td>\n      <td>[based on novel, mars, medallion, space travel...</td>\n      <td>[Taylor Kitsch, Lynn Collins, Samantha Morton]</td>\n      <td>[Andrew Stanton]</td>\n      <td>43.926995</td>\n    </tr>\n  </tbody>\n</table>\n</div>"
     },
     "execution_count": 18,
     "metadata": {},
     "output_type": "execute_result"
    }
   ],
   "source": [
    "movies_dataset.head()"
   ],
   "metadata": {
    "collapsed": false,
    "ExecuteTime": {
     "end_time": "2023-11-06T19:13:30.314357100Z",
     "start_time": "2023-11-06T19:13:30.294086500Z"
    }
   }
  },
  {
   "cell_type": "code",
   "execution_count": 19,
   "outputs": [
    {
     "data": {
      "text/plain": "0       [In, the, 22nd, century,, a, paraplegic, Marin...\n1       [Captain, Barbossa,, long, believed, to, be, d...\n2       [A, cryptic, message, from, Bond’s, past, send...\n3       [Following, the, death, of, District, Attorney...\n4       [John, Carter, is, a, war-weary,, former, mili...\n                              ...                        \n4803    [El, Mariachi, just, wants, to, play, his, gui...\n4804    [A, newlywed, couple's, honeymoon, is, upended...\n4805    [\"Signed,, Sealed,, Delivered\", introduces, a,...\n4806    [When, ambitious, New, York, attorney, Sam, is...\n4807    [Ever, since, the, second, grade, when, he, fi...\nName: overview, Length: 4805, dtype: object"
     },
     "execution_count": 19,
     "metadata": {},
     "output_type": "execute_result"
    }
   ],
   "source": [
    "movies_dataset['overview'] = movies_dataset['overview'].apply(lambda x: x.split())\n",
    "movies_dataset['overview']"
   ],
   "metadata": {
    "collapsed": false,
    "ExecuteTime": {
     "end_time": "2023-11-06T19:13:31.059023200Z",
     "start_time": "2023-11-06T19:13:31.024324200Z"
    }
   }
  },
  {
   "cell_type": "code",
   "execution_count": 20,
   "outputs": [
    {
     "data": {
      "text/plain": "   movie_id                                     title  \\\n0     19995                                    Avatar   \n1       285  Pirates of the Caribbean: At World's End   \n2    206647                                   Spectre   \n3     49026                     The Dark Knight Rises   \n4     49529                               John Carter   \n\n                                            overview  \\\n0  [In, the, 22nd, century,, a, paraplegic, Marin...   \n1  [Captain, Barbossa,, long, believed, to, be, d...   \n2  [A, cryptic, message, from, Bond’s, past, send...   \n3  [Following, the, death, of, District, Attorney...   \n4  [John, Carter, is, a, war-weary,, former, mili...   \n\n                                          genres  \\\n0  [Action, Adventure, Fantasy, Science Fiction]   \n1                   [Adventure, Fantasy, Action]   \n2                     [Action, Adventure, Crime]   \n3               [Action, Crime, Drama, Thriller]   \n4           [Action, Adventure, Science Fiction]   \n\n                                            keywords  \\\n0  [culture clash, future, space war, space colon...   \n1  [ocean, drug abuse, exotic island, east india ...   \n2  [spy, based on novel, secret agent, sequel, mi...   \n3  [dc comics, crime fighter, terrorist, secret i...   \n4  [based on novel, mars, medallion, space travel...   \n\n                                               cast                 crew  \\\n0  [Sam Worthington, Zoe Saldana, Sigourney Weaver]      [James Cameron]   \n1     [Johnny Depp, Orlando Bloom, Keira Knightley]     [Gore Verbinski]   \n2      [Daniel Craig, Christoph Waltz, Léa Seydoux]         [Sam Mendes]   \n3      [Christian Bale, Michael Caine, Gary Oldman]  [Christopher Nolan]   \n4    [Taylor Kitsch, Lynn Collins, Samantha Morton]     [Andrew Stanton]   \n\n   popularity  \n0  150.437577  \n1  139.082615  \n2  107.376788  \n3  112.312950  \n4   43.926995  ",
      "text/html": "<div>\n<style scoped>\n    .dataframe tbody tr th:only-of-type {\n        vertical-align: middle;\n    }\n\n    .dataframe tbody tr th {\n        vertical-align: top;\n    }\n\n    .dataframe thead th {\n        text-align: right;\n    }\n</style>\n<table border=\"1\" class=\"dataframe\">\n  <thead>\n    <tr style=\"text-align: right;\">\n      <th></th>\n      <th>movie_id</th>\n      <th>title</th>\n      <th>overview</th>\n      <th>genres</th>\n      <th>keywords</th>\n      <th>cast</th>\n      <th>crew</th>\n      <th>popularity</th>\n    </tr>\n  </thead>\n  <tbody>\n    <tr>\n      <th>0</th>\n      <td>19995</td>\n      <td>Avatar</td>\n      <td>[In, the, 22nd, century,, a, paraplegic, Marin...</td>\n      <td>[Action, Adventure, Fantasy, Science Fiction]</td>\n      <td>[culture clash, future, space war, space colon...</td>\n      <td>[Sam Worthington, Zoe Saldana, Sigourney Weaver]</td>\n      <td>[James Cameron]</td>\n      <td>150.437577</td>\n    </tr>\n    <tr>\n      <th>1</th>\n      <td>285</td>\n      <td>Pirates of the Caribbean: At World's End</td>\n      <td>[Captain, Barbossa,, long, believed, to, be, d...</td>\n      <td>[Adventure, Fantasy, Action]</td>\n      <td>[ocean, drug abuse, exotic island, east india ...</td>\n      <td>[Johnny Depp, Orlando Bloom, Keira Knightley]</td>\n      <td>[Gore Verbinski]</td>\n      <td>139.082615</td>\n    </tr>\n    <tr>\n      <th>2</th>\n      <td>206647</td>\n      <td>Spectre</td>\n      <td>[A, cryptic, message, from, Bond’s, past, send...</td>\n      <td>[Action, Adventure, Crime]</td>\n      <td>[spy, based on novel, secret agent, sequel, mi...</td>\n      <td>[Daniel Craig, Christoph Waltz, Léa Seydoux]</td>\n      <td>[Sam Mendes]</td>\n      <td>107.376788</td>\n    </tr>\n    <tr>\n      <th>3</th>\n      <td>49026</td>\n      <td>The Dark Knight Rises</td>\n      <td>[Following, the, death, of, District, Attorney...</td>\n      <td>[Action, Crime, Drama, Thriller]</td>\n      <td>[dc comics, crime fighter, terrorist, secret i...</td>\n      <td>[Christian Bale, Michael Caine, Gary Oldman]</td>\n      <td>[Christopher Nolan]</td>\n      <td>112.312950</td>\n    </tr>\n    <tr>\n      <th>4</th>\n      <td>49529</td>\n      <td>John Carter</td>\n      <td>[John, Carter, is, a, war-weary,, former, mili...</td>\n      <td>[Action, Adventure, Science Fiction]</td>\n      <td>[based on novel, mars, medallion, space travel...</td>\n      <td>[Taylor Kitsch, Lynn Collins, Samantha Morton]</td>\n      <td>[Andrew Stanton]</td>\n      <td>43.926995</td>\n    </tr>\n  </tbody>\n</table>\n</div>"
     },
     "execution_count": 20,
     "metadata": {},
     "output_type": "execute_result"
    }
   ],
   "source": [
    "movies_dataset.head()"
   ],
   "metadata": {
    "collapsed": false,
    "ExecuteTime": {
     "end_time": "2023-11-06T19:13:31.706118100Z",
     "start_time": "2023-11-06T19:13:31.667642Z"
    }
   }
  },
  {
   "cell_type": "code",
   "execution_count": 21,
   "outputs": [],
   "source": [
    "movies_dataset['genres'] = movies_dataset['genres'].apply(lambda x: [i.replace(\" \", \"\") for i in x])\n",
    "movies_dataset['keywords'] = movies_dataset['keywords'].apply(lambda x: [i.replace(\" \", \"\") for i in x])\n",
    "movies_dataset['cast'] = movies_dataset['cast'].apply(lambda x: [i.replace(\" \", \"\") for i in x])\n",
    "movies_dataset['crew'] = movies_dataset['crew'].apply(lambda x: [i.replace(\" \", \"\") for i in x])"
   ],
   "metadata": {
    "collapsed": false,
    "ExecuteTime": {
     "end_time": "2023-11-06T19:13:32.261533600Z",
     "start_time": "2023-11-06T19:13:32.230706100Z"
    }
   }
  },
  {
   "cell_type": "code",
   "execution_count": 22,
   "outputs": [
    {
     "data": {
      "text/plain": "   movie_id                                     title  \\\n0     19995                                    Avatar   \n1       285  Pirates of the Caribbean: At World's End   \n2    206647                                   Spectre   \n3     49026                     The Dark Knight Rises   \n4     49529                               John Carter   \n\n                                            overview  \\\n0  [In, the, 22nd, century,, a, paraplegic, Marin...   \n1  [Captain, Barbossa,, long, believed, to, be, d...   \n2  [A, cryptic, message, from, Bond’s, past, send...   \n3  [Following, the, death, of, District, Attorney...   \n4  [John, Carter, is, a, war-weary,, former, mili...   \n\n                                         genres  \\\n0  [Action, Adventure, Fantasy, ScienceFiction]   \n1                  [Adventure, Fantasy, Action]   \n2                    [Action, Adventure, Crime]   \n3              [Action, Crime, Drama, Thriller]   \n4           [Action, Adventure, ScienceFiction]   \n\n                                            keywords  \\\n0  [cultureclash, future, spacewar, spacecolony, ...   \n1  [ocean, drugabuse, exoticisland, eastindiatrad...   \n2  [spy, basedonnovel, secretagent, sequel, mi6, ...   \n3  [dccomics, crimefighter, terrorist, secretiden...   \n4  [basedonnovel, mars, medallion, spacetravel, p...   \n\n                                            cast                crew  \\\n0  [SamWorthington, ZoeSaldana, SigourneyWeaver]      [JamesCameron]   \n1     [JohnnyDepp, OrlandoBloom, KeiraKnightley]     [GoreVerbinski]   \n2      [DanielCraig, ChristophWaltz, LéaSeydoux]         [SamMendes]   \n3      [ChristianBale, MichaelCaine, GaryOldman]  [ChristopherNolan]   \n4    [TaylorKitsch, LynnCollins, SamanthaMorton]     [AndrewStanton]   \n\n   popularity  \n0  150.437577  \n1  139.082615  \n2  107.376788  \n3  112.312950  \n4   43.926995  ",
      "text/html": "<div>\n<style scoped>\n    .dataframe tbody tr th:only-of-type {\n        vertical-align: middle;\n    }\n\n    .dataframe tbody tr th {\n        vertical-align: top;\n    }\n\n    .dataframe thead th {\n        text-align: right;\n    }\n</style>\n<table border=\"1\" class=\"dataframe\">\n  <thead>\n    <tr style=\"text-align: right;\">\n      <th></th>\n      <th>movie_id</th>\n      <th>title</th>\n      <th>overview</th>\n      <th>genres</th>\n      <th>keywords</th>\n      <th>cast</th>\n      <th>crew</th>\n      <th>popularity</th>\n    </tr>\n  </thead>\n  <tbody>\n    <tr>\n      <th>0</th>\n      <td>19995</td>\n      <td>Avatar</td>\n      <td>[In, the, 22nd, century,, a, paraplegic, Marin...</td>\n      <td>[Action, Adventure, Fantasy, ScienceFiction]</td>\n      <td>[cultureclash, future, spacewar, spacecolony, ...</td>\n      <td>[SamWorthington, ZoeSaldana, SigourneyWeaver]</td>\n      <td>[JamesCameron]</td>\n      <td>150.437577</td>\n    </tr>\n    <tr>\n      <th>1</th>\n      <td>285</td>\n      <td>Pirates of the Caribbean: At World's End</td>\n      <td>[Captain, Barbossa,, long, believed, to, be, d...</td>\n      <td>[Adventure, Fantasy, Action]</td>\n      <td>[ocean, drugabuse, exoticisland, eastindiatrad...</td>\n      <td>[JohnnyDepp, OrlandoBloom, KeiraKnightley]</td>\n      <td>[GoreVerbinski]</td>\n      <td>139.082615</td>\n    </tr>\n    <tr>\n      <th>2</th>\n      <td>206647</td>\n      <td>Spectre</td>\n      <td>[A, cryptic, message, from, Bond’s, past, send...</td>\n      <td>[Action, Adventure, Crime]</td>\n      <td>[spy, basedonnovel, secretagent, sequel, mi6, ...</td>\n      <td>[DanielCraig, ChristophWaltz, LéaSeydoux]</td>\n      <td>[SamMendes]</td>\n      <td>107.376788</td>\n    </tr>\n    <tr>\n      <th>3</th>\n      <td>49026</td>\n      <td>The Dark Knight Rises</td>\n      <td>[Following, the, death, of, District, Attorney...</td>\n      <td>[Action, Crime, Drama, Thriller]</td>\n      <td>[dccomics, crimefighter, terrorist, secretiden...</td>\n      <td>[ChristianBale, MichaelCaine, GaryOldman]</td>\n      <td>[ChristopherNolan]</td>\n      <td>112.312950</td>\n    </tr>\n    <tr>\n      <th>4</th>\n      <td>49529</td>\n      <td>John Carter</td>\n      <td>[John, Carter, is, a, war-weary,, former, mili...</td>\n      <td>[Action, Adventure, ScienceFiction]</td>\n      <td>[basedonnovel, mars, medallion, spacetravel, p...</td>\n      <td>[TaylorKitsch, LynnCollins, SamanthaMorton]</td>\n      <td>[AndrewStanton]</td>\n      <td>43.926995</td>\n    </tr>\n  </tbody>\n</table>\n</div>"
     },
     "execution_count": 22,
     "metadata": {},
     "output_type": "execute_result"
    }
   ],
   "source": [
    "movies_dataset.head()"
   ],
   "metadata": {
    "collapsed": false,
    "ExecuteTime": {
     "end_time": "2023-11-06T19:13:32.892811600Z",
     "start_time": "2023-11-06T19:13:32.878572500Z"
    }
   }
  },
  {
   "cell_type": "markdown",
   "source": [
    "#### Creating a new column tags"
   ],
   "metadata": {
    "collapsed": false
   }
  },
  {
   "cell_type": "code",
   "execution_count": 23,
   "outputs": [],
   "source": [
    "movies_dataset['tags'] = movies_dataset['overview'] + movies_dataset['genres'] + movies_dataset['keywords'] + \\\n",
    "                         movies_dataset['cast'] + movies_dataset['crew']"
   ],
   "metadata": {
    "collapsed": false,
    "ExecuteTime": {
     "end_time": "2023-11-06T19:13:34.282198400Z",
     "start_time": "2023-11-06T19:13:34.208072200Z"
    }
   }
  },
  {
   "cell_type": "code",
   "execution_count": 24,
   "outputs": [
    {
     "data": {
      "text/plain": "   movie_id                                     title  \\\n0     19995                                    Avatar   \n1       285  Pirates of the Caribbean: At World's End   \n2    206647                                   Spectre   \n3     49026                     The Dark Knight Rises   \n4     49529                               John Carter   \n\n                                            overview  \\\n0  [In, the, 22nd, century,, a, paraplegic, Marin...   \n1  [Captain, Barbossa,, long, believed, to, be, d...   \n2  [A, cryptic, message, from, Bond’s, past, send...   \n3  [Following, the, death, of, District, Attorney...   \n4  [John, Carter, is, a, war-weary,, former, mili...   \n\n                                         genres  \\\n0  [Action, Adventure, Fantasy, ScienceFiction]   \n1                  [Adventure, Fantasy, Action]   \n2                    [Action, Adventure, Crime]   \n3              [Action, Crime, Drama, Thriller]   \n4           [Action, Adventure, ScienceFiction]   \n\n                                            keywords  \\\n0  [cultureclash, future, spacewar, spacecolony, ...   \n1  [ocean, drugabuse, exoticisland, eastindiatrad...   \n2  [spy, basedonnovel, secretagent, sequel, mi6, ...   \n3  [dccomics, crimefighter, terrorist, secretiden...   \n4  [basedonnovel, mars, medallion, spacetravel, p...   \n\n                                            cast                crew  \\\n0  [SamWorthington, ZoeSaldana, SigourneyWeaver]      [JamesCameron]   \n1     [JohnnyDepp, OrlandoBloom, KeiraKnightley]     [GoreVerbinski]   \n2      [DanielCraig, ChristophWaltz, LéaSeydoux]         [SamMendes]   \n3      [ChristianBale, MichaelCaine, GaryOldman]  [ChristopherNolan]   \n4    [TaylorKitsch, LynnCollins, SamanthaMorton]     [AndrewStanton]   \n\n   popularity                                               tags  \n0  150.437577  [In, the, 22nd, century,, a, paraplegic, Marin...  \n1  139.082615  [Captain, Barbossa,, long, believed, to, be, d...  \n2  107.376788  [A, cryptic, message, from, Bond’s, past, send...  \n3  112.312950  [Following, the, death, of, District, Attorney...  \n4   43.926995  [John, Carter, is, a, war-weary,, former, mili...  ",
      "text/html": "<div>\n<style scoped>\n    .dataframe tbody tr th:only-of-type {\n        vertical-align: middle;\n    }\n\n    .dataframe tbody tr th {\n        vertical-align: top;\n    }\n\n    .dataframe thead th {\n        text-align: right;\n    }\n</style>\n<table border=\"1\" class=\"dataframe\">\n  <thead>\n    <tr style=\"text-align: right;\">\n      <th></th>\n      <th>movie_id</th>\n      <th>title</th>\n      <th>overview</th>\n      <th>genres</th>\n      <th>keywords</th>\n      <th>cast</th>\n      <th>crew</th>\n      <th>popularity</th>\n      <th>tags</th>\n    </tr>\n  </thead>\n  <tbody>\n    <tr>\n      <th>0</th>\n      <td>19995</td>\n      <td>Avatar</td>\n      <td>[In, the, 22nd, century,, a, paraplegic, Marin...</td>\n      <td>[Action, Adventure, Fantasy, ScienceFiction]</td>\n      <td>[cultureclash, future, spacewar, spacecolony, ...</td>\n      <td>[SamWorthington, ZoeSaldana, SigourneyWeaver]</td>\n      <td>[JamesCameron]</td>\n      <td>150.437577</td>\n      <td>[In, the, 22nd, century,, a, paraplegic, Marin...</td>\n    </tr>\n    <tr>\n      <th>1</th>\n      <td>285</td>\n      <td>Pirates of the Caribbean: At World's End</td>\n      <td>[Captain, Barbossa,, long, believed, to, be, d...</td>\n      <td>[Adventure, Fantasy, Action]</td>\n      <td>[ocean, drugabuse, exoticisland, eastindiatrad...</td>\n      <td>[JohnnyDepp, OrlandoBloom, KeiraKnightley]</td>\n      <td>[GoreVerbinski]</td>\n      <td>139.082615</td>\n      <td>[Captain, Barbossa,, long, believed, to, be, d...</td>\n    </tr>\n    <tr>\n      <th>2</th>\n      <td>206647</td>\n      <td>Spectre</td>\n      <td>[A, cryptic, message, from, Bond’s, past, send...</td>\n      <td>[Action, Adventure, Crime]</td>\n      <td>[spy, basedonnovel, secretagent, sequel, mi6, ...</td>\n      <td>[DanielCraig, ChristophWaltz, LéaSeydoux]</td>\n      <td>[SamMendes]</td>\n      <td>107.376788</td>\n      <td>[A, cryptic, message, from, Bond’s, past, send...</td>\n    </tr>\n    <tr>\n      <th>3</th>\n      <td>49026</td>\n      <td>The Dark Knight Rises</td>\n      <td>[Following, the, death, of, District, Attorney...</td>\n      <td>[Action, Crime, Drama, Thriller]</td>\n      <td>[dccomics, crimefighter, terrorist, secretiden...</td>\n      <td>[ChristianBale, MichaelCaine, GaryOldman]</td>\n      <td>[ChristopherNolan]</td>\n      <td>112.312950</td>\n      <td>[Following, the, death, of, District, Attorney...</td>\n    </tr>\n    <tr>\n      <th>4</th>\n      <td>49529</td>\n      <td>John Carter</td>\n      <td>[John, Carter, is, a, war-weary,, former, mili...</td>\n      <td>[Action, Adventure, ScienceFiction]</td>\n      <td>[basedonnovel, mars, medallion, spacetravel, p...</td>\n      <td>[TaylorKitsch, LynnCollins, SamanthaMorton]</td>\n      <td>[AndrewStanton]</td>\n      <td>43.926995</td>\n      <td>[John, Carter, is, a, war-weary,, former, mili...</td>\n    </tr>\n  </tbody>\n</table>\n</div>"
     },
     "execution_count": 24,
     "metadata": {},
     "output_type": "execute_result"
    }
   ],
   "source": [
    "movies_dataset.head()"
   ],
   "metadata": {
    "collapsed": false,
    "ExecuteTime": {
     "end_time": "2023-11-06T19:13:34.945072700Z",
     "start_time": "2023-11-06T19:13:34.914729500Z"
    }
   }
  },
  {
   "cell_type": "code",
   "execution_count": 25,
   "outputs": [],
   "source": [
    "new_movies_dataset = movies_dataset[['movie_id', 'title', 'tags', 'popularity']]"
   ],
   "metadata": {
    "collapsed": false,
    "ExecuteTime": {
     "end_time": "2023-11-06T19:13:35.615914100Z",
     "start_time": "2023-11-06T19:13:35.608555600Z"
    }
   }
  },
  {
   "cell_type": "code",
   "execution_count": 26,
   "outputs": [
    {
     "data": {
      "text/plain": "   movie_id                                     title  \\\n0     19995                                    Avatar   \n1       285  Pirates of the Caribbean: At World's End   \n2    206647                                   Spectre   \n3     49026                     The Dark Knight Rises   \n4     49529                               John Carter   \n\n                                                tags  popularity  \n0  [In, the, 22nd, century,, a, paraplegic, Marin...  150.437577  \n1  [Captain, Barbossa,, long, believed, to, be, d...  139.082615  \n2  [A, cryptic, message, from, Bond’s, past, send...  107.376788  \n3  [Following, the, death, of, District, Attorney...  112.312950  \n4  [John, Carter, is, a, war-weary,, former, mili...   43.926995  ",
      "text/html": "<div>\n<style scoped>\n    .dataframe tbody tr th:only-of-type {\n        vertical-align: middle;\n    }\n\n    .dataframe tbody tr th {\n        vertical-align: top;\n    }\n\n    .dataframe thead th {\n        text-align: right;\n    }\n</style>\n<table border=\"1\" class=\"dataframe\">\n  <thead>\n    <tr style=\"text-align: right;\">\n      <th></th>\n      <th>movie_id</th>\n      <th>title</th>\n      <th>tags</th>\n      <th>popularity</th>\n    </tr>\n  </thead>\n  <tbody>\n    <tr>\n      <th>0</th>\n      <td>19995</td>\n      <td>Avatar</td>\n      <td>[In, the, 22nd, century,, a, paraplegic, Marin...</td>\n      <td>150.437577</td>\n    </tr>\n    <tr>\n      <th>1</th>\n      <td>285</td>\n      <td>Pirates of the Caribbean: At World's End</td>\n      <td>[Captain, Barbossa,, long, believed, to, be, d...</td>\n      <td>139.082615</td>\n    </tr>\n    <tr>\n      <th>2</th>\n      <td>206647</td>\n      <td>Spectre</td>\n      <td>[A, cryptic, message, from, Bond’s, past, send...</td>\n      <td>107.376788</td>\n    </tr>\n    <tr>\n      <th>3</th>\n      <td>49026</td>\n      <td>The Dark Knight Rises</td>\n      <td>[Following, the, death, of, District, Attorney...</td>\n      <td>112.312950</td>\n    </tr>\n    <tr>\n      <th>4</th>\n      <td>49529</td>\n      <td>John Carter</td>\n      <td>[John, Carter, is, a, war-weary,, former, mili...</td>\n      <td>43.926995</td>\n    </tr>\n  </tbody>\n</table>\n</div>"
     },
     "execution_count": 26,
     "metadata": {},
     "output_type": "execute_result"
    }
   ],
   "source": [
    "new_movies_dataset.head()"
   ],
   "metadata": {
    "collapsed": false,
    "ExecuteTime": {
     "end_time": "2023-11-06T19:13:36.385670100Z",
     "start_time": "2023-11-06T19:13:36.367837200Z"
    }
   }
  },
  {
   "cell_type": "markdown",
   "source": [
    "#### Converting tags into string"
   ],
   "metadata": {
    "collapsed": false
   }
  },
  {
   "cell_type": "code",
   "execution_count": 27,
   "outputs": [],
   "source": [
    "new_movies_dataset['tags'] = new_movies_dataset['tags'].apply(lambda x: \" \".join(x))"
   ],
   "metadata": {
    "collapsed": false,
    "ExecuteTime": {
     "end_time": "2023-11-06T19:13:37.863093700Z",
     "start_time": "2023-11-06T19:13:37.841985200Z"
    }
   }
  },
  {
   "cell_type": "code",
   "execution_count": 28,
   "outputs": [
    {
     "data": {
      "text/plain": "   movie_id                                     title  \\\n0     19995                                    Avatar   \n1       285  Pirates of the Caribbean: At World's End   \n2    206647                                   Spectre   \n3     49026                     The Dark Knight Rises   \n4     49529                               John Carter   \n\n                                                tags  popularity  \n0  In the 22nd century, a paraplegic Marine is di...  150.437577  \n1  Captain Barbossa, long believed to be dead, ha...  139.082615  \n2  A cryptic message from Bond’s past sends him o...  107.376788  \n3  Following the death of District Attorney Harve...  112.312950  \n4  John Carter is a war-weary, former military ca...   43.926995  ",
      "text/html": "<div>\n<style scoped>\n    .dataframe tbody tr th:only-of-type {\n        vertical-align: middle;\n    }\n\n    .dataframe tbody tr th {\n        vertical-align: top;\n    }\n\n    .dataframe thead th {\n        text-align: right;\n    }\n</style>\n<table border=\"1\" class=\"dataframe\">\n  <thead>\n    <tr style=\"text-align: right;\">\n      <th></th>\n      <th>movie_id</th>\n      <th>title</th>\n      <th>tags</th>\n      <th>popularity</th>\n    </tr>\n  </thead>\n  <tbody>\n    <tr>\n      <th>0</th>\n      <td>19995</td>\n      <td>Avatar</td>\n      <td>In the 22nd century, a paraplegic Marine is di...</td>\n      <td>150.437577</td>\n    </tr>\n    <tr>\n      <th>1</th>\n      <td>285</td>\n      <td>Pirates of the Caribbean: At World's End</td>\n      <td>Captain Barbossa, long believed to be dead, ha...</td>\n      <td>139.082615</td>\n    </tr>\n    <tr>\n      <th>2</th>\n      <td>206647</td>\n      <td>Spectre</td>\n      <td>A cryptic message from Bond’s past sends him o...</td>\n      <td>107.376788</td>\n    </tr>\n    <tr>\n      <th>3</th>\n      <td>49026</td>\n      <td>The Dark Knight Rises</td>\n      <td>Following the death of District Attorney Harve...</td>\n      <td>112.312950</td>\n    </tr>\n    <tr>\n      <th>4</th>\n      <td>49529</td>\n      <td>John Carter</td>\n      <td>John Carter is a war-weary, former military ca...</td>\n      <td>43.926995</td>\n    </tr>\n  </tbody>\n</table>\n</div>"
     },
     "execution_count": 28,
     "metadata": {},
     "output_type": "execute_result"
    }
   ],
   "source": [
    "new_movies_dataset.head()"
   ],
   "metadata": {
    "collapsed": false,
    "ExecuteTime": {
     "end_time": "2023-11-06T19:13:38.553969300Z",
     "start_time": "2023-11-06T19:13:38.533902700Z"
    }
   }
  },
  {
   "cell_type": "code",
   "execution_count": 29,
   "outputs": [],
   "source": [
    "new_movies_dataset['tags'] = new_movies_dataset['tags'].apply(lambda x: x.lower())"
   ],
   "metadata": {
    "collapsed": false,
    "ExecuteTime": {
     "end_time": "2023-11-06T19:13:39.279548400Z",
     "start_time": "2023-11-06T19:13:39.255787700Z"
    }
   }
  },
  {
   "cell_type": "code",
   "execution_count": 30,
   "outputs": [
    {
     "data": {
      "text/plain": "   movie_id                                     title  \\\n0     19995                                    Avatar   \n1       285  Pirates of the Caribbean: At World's End   \n2    206647                                   Spectre   \n3     49026                     The Dark Knight Rises   \n4     49529                               John Carter   \n\n                                                tags  popularity  \n0  in the 22nd century, a paraplegic marine is di...  150.437577  \n1  captain barbossa, long believed to be dead, ha...  139.082615  \n2  a cryptic message from bond’s past sends him o...  107.376788  \n3  following the death of district attorney harve...  112.312950  \n4  john carter is a war-weary, former military ca...   43.926995  ",
      "text/html": "<div>\n<style scoped>\n    .dataframe tbody tr th:only-of-type {\n        vertical-align: middle;\n    }\n\n    .dataframe tbody tr th {\n        vertical-align: top;\n    }\n\n    .dataframe thead th {\n        text-align: right;\n    }\n</style>\n<table border=\"1\" class=\"dataframe\">\n  <thead>\n    <tr style=\"text-align: right;\">\n      <th></th>\n      <th>movie_id</th>\n      <th>title</th>\n      <th>tags</th>\n      <th>popularity</th>\n    </tr>\n  </thead>\n  <tbody>\n    <tr>\n      <th>0</th>\n      <td>19995</td>\n      <td>Avatar</td>\n      <td>in the 22nd century, a paraplegic marine is di...</td>\n      <td>150.437577</td>\n    </tr>\n    <tr>\n      <th>1</th>\n      <td>285</td>\n      <td>Pirates of the Caribbean: At World's End</td>\n      <td>captain barbossa, long believed to be dead, ha...</td>\n      <td>139.082615</td>\n    </tr>\n    <tr>\n      <th>2</th>\n      <td>206647</td>\n      <td>Spectre</td>\n      <td>a cryptic message from bond’s past sends him o...</td>\n      <td>107.376788</td>\n    </tr>\n    <tr>\n      <th>3</th>\n      <td>49026</td>\n      <td>The Dark Knight Rises</td>\n      <td>following the death of district attorney harve...</td>\n      <td>112.312950</td>\n    </tr>\n    <tr>\n      <th>4</th>\n      <td>49529</td>\n      <td>John Carter</td>\n      <td>john carter is a war-weary, former military ca...</td>\n      <td>43.926995</td>\n    </tr>\n  </tbody>\n</table>\n</div>"
     },
     "execution_count": 30,
     "metadata": {},
     "output_type": "execute_result"
    }
   ],
   "source": [
    "new_movies_dataset.head()"
   ],
   "metadata": {
    "collapsed": false,
    "ExecuteTime": {
     "end_time": "2023-11-06T19:13:40.015763600Z",
     "start_time": "2023-11-06T19:13:39.979671200Z"
    }
   }
  },
  {
   "cell_type": "markdown",
   "source": [
    "### Lemmatization of tags"
   ],
   "metadata": {
    "collapsed": false
   }
  },
  {
   "cell_type": "code",
   "execution_count": 31,
   "outputs": [],
   "source": [
    "from nltk.stem import WordNetLemmatizer\n",
    "\n",
    "Lemmatize = WordNetLemmatizer()"
   ],
   "metadata": {
    "collapsed": false,
    "ExecuteTime": {
     "end_time": "2023-11-06T19:13:43.849417200Z",
     "start_time": "2023-11-06T19:13:41.518275Z"
    }
   }
  },
  {
   "cell_type": "code",
   "execution_count": 32,
   "outputs": [],
   "source": [
    "def lemmatizer(text):\n",
    "    y = []\n",
    "    for i in text.split():\n",
    "        y.append(Lemmatize.lemmatize(i))\n",
    "    return \" \".join(y)"
   ],
   "metadata": {
    "collapsed": false,
    "ExecuteTime": {
     "end_time": "2023-11-06T19:13:44.773429600Z",
     "start_time": "2023-11-06T19:13:44.750932800Z"
    }
   }
  },
  {
   "cell_type": "code",
   "execution_count": 33,
   "outputs": [],
   "source": [
    "new_movies_dataset['tags'] = new_movies_dataset['tags'].apply(lemmatizer)"
   ],
   "metadata": {
    "collapsed": false,
    "ExecuteTime": {
     "end_time": "2023-11-06T19:13:47.859668500Z",
     "start_time": "2023-11-06T19:13:45.668946900Z"
    }
   }
  },
  {
   "cell_type": "code",
   "execution_count": 34,
   "outputs": [
    {
     "data": {
      "text/plain": "   movie_id                                     title  \\\n0     19995                                    Avatar   \n1       285  Pirates of the Caribbean: At World's End   \n2    206647                                   Spectre   \n3     49026                     The Dark Knight Rises   \n4     49529                               John Carter   \n\n                                                tags  popularity  \n0  in the 22nd century, a paraplegic marine is di...  150.437577  \n1  captain barbossa, long believed to be dead, ha...  139.082615  \n2  a cryptic message from bond’s past sends him o...  107.376788  \n3  following the death of district attorney harve...  112.312950  \n4  john carter is a war-weary, former military ca...   43.926995  ",
      "text/html": "<div>\n<style scoped>\n    .dataframe tbody tr th:only-of-type {\n        vertical-align: middle;\n    }\n\n    .dataframe tbody tr th {\n        vertical-align: top;\n    }\n\n    .dataframe thead th {\n        text-align: right;\n    }\n</style>\n<table border=\"1\" class=\"dataframe\">\n  <thead>\n    <tr style=\"text-align: right;\">\n      <th></th>\n      <th>movie_id</th>\n      <th>title</th>\n      <th>tags</th>\n      <th>popularity</th>\n    </tr>\n  </thead>\n  <tbody>\n    <tr>\n      <th>0</th>\n      <td>19995</td>\n      <td>Avatar</td>\n      <td>in the 22nd century, a paraplegic marine is di...</td>\n      <td>150.437577</td>\n    </tr>\n    <tr>\n      <th>1</th>\n      <td>285</td>\n      <td>Pirates of the Caribbean: At World's End</td>\n      <td>captain barbossa, long believed to be dead, ha...</td>\n      <td>139.082615</td>\n    </tr>\n    <tr>\n      <th>2</th>\n      <td>206647</td>\n      <td>Spectre</td>\n      <td>a cryptic message from bond’s past sends him o...</td>\n      <td>107.376788</td>\n    </tr>\n    <tr>\n      <th>3</th>\n      <td>49026</td>\n      <td>The Dark Knight Rises</td>\n      <td>following the death of district attorney harve...</td>\n      <td>112.312950</td>\n    </tr>\n    <tr>\n      <th>4</th>\n      <td>49529</td>\n      <td>John Carter</td>\n      <td>john carter is a war-weary, former military ca...</td>\n      <td>43.926995</td>\n    </tr>\n  </tbody>\n</table>\n</div>"
     },
     "execution_count": 34,
     "metadata": {},
     "output_type": "execute_result"
    }
   ],
   "source": [
    "new_movies_dataset.head()"
   ],
   "metadata": {
    "collapsed": false,
    "ExecuteTime": {
     "end_time": "2023-11-06T19:13:47.876974200Z",
     "start_time": "2023-11-06T19:13:47.860639200Z"
    }
   }
  },
  {
   "cell_type": "markdown",
   "source": [
    "### Text Vectorization\n",
    "Bags of Words method"
   ],
   "metadata": {
    "collapsed": false
   }
  },
  {
   "cell_type": "code",
   "execution_count": 35,
   "outputs": [],
   "source": [
    "from sklearn.feature_extraction.text import CountVectorizer"
   ],
   "metadata": {
    "collapsed": false,
    "ExecuteTime": {
     "end_time": "2023-11-06T19:13:49.689178300Z",
     "start_time": "2023-11-06T19:13:49.683225300Z"
    }
   }
  },
  {
   "cell_type": "code",
   "execution_count": 36,
   "outputs": [],
   "source": [
    "count_vectorizer = CountVectorizer(max_features=5000, stop_words='english')\n",
    "vectorized_tags = count_vectorizer.fit_transform(new_movies_dataset['tags']).toarray()"
   ],
   "metadata": {
    "collapsed": false,
    "ExecuteTime": {
     "end_time": "2023-11-06T19:13:50.648327500Z",
     "start_time": "2023-11-06T19:13:50.344347600Z"
    }
   }
  },
  {
   "cell_type": "code",
   "execution_count": 37,
   "outputs": [
    {
     "data": {
      "text/plain": "array([[0, 0, 0, ..., 0, 0, 0],\n       [0, 0, 0, ..., 0, 0, 0],\n       [0, 0, 0, ..., 0, 0, 0],\n       ...,\n       [0, 0, 0, ..., 0, 0, 0],\n       [0, 0, 0, ..., 0, 0, 0],\n       [0, 0, 0, ..., 0, 0, 0]], dtype=int64)"
     },
     "execution_count": 37,
     "metadata": {},
     "output_type": "execute_result"
    }
   ],
   "source": [
    "vectorized_tags"
   ],
   "metadata": {
    "collapsed": false,
    "ExecuteTime": {
     "end_time": "2023-11-06T19:13:52.315455700Z",
     "start_time": "2023-11-06T19:13:52.295289900Z"
    }
   }
  },
  {
   "cell_type": "code",
   "execution_count": 38,
   "outputs": [
    {
     "data": {
      "text/plain": "array(['000', '007', '10', ..., 'zone', 'zoo', 'zooeydeschanel'],\n      dtype=object)"
     },
     "execution_count": 38,
     "metadata": {},
     "output_type": "execute_result"
    }
   ],
   "source": [
    "count_vectorizer.get_feature_names_out()"
   ],
   "metadata": {
    "collapsed": false,
    "ExecuteTime": {
     "end_time": "2023-11-06T19:13:53.248234800Z",
     "start_time": "2023-11-06T19:13:53.183246900Z"
    }
   }
  },
  {
   "cell_type": "markdown",
   "source": [
    "Cosine Similarity (Cosine Distance)"
   ],
   "metadata": {
    "collapsed": false
   }
  },
  {
   "cell_type": "code",
   "execution_count": 39,
   "outputs": [],
   "source": [
    "from sklearn.metrics.pairwise import cosine_similarity"
   ],
   "metadata": {
    "collapsed": false,
    "ExecuteTime": {
     "end_time": "2023-11-06T19:13:54.798687500Z",
     "start_time": "2023-11-06T19:13:54.795757400Z"
    }
   }
  },
  {
   "cell_type": "code",
   "execution_count": 40,
   "outputs": [],
   "source": [
    "similarity = cosine_similarity(vectorized_tags)"
   ],
   "metadata": {
    "collapsed": false,
    "ExecuteTime": {
     "end_time": "2023-11-06T19:13:56.937007600Z",
     "start_time": "2023-11-06T19:13:55.403443100Z"
    }
   }
  },
  {
   "cell_type": "code",
   "execution_count": 41,
   "outputs": [
    {
     "data": {
      "text/plain": "array([[1.        , 0.08703883, 0.08980265, ..., 0.04811252, 0.02635231,\n        0.        ],\n       [0.08703883, 1.        , 0.06253054, ..., 0.02512595, 0.        ,\n        0.02718636],\n       [0.08980265, 0.06253054, 1.        , ..., 0.02592379, 0.        ,\n        0.        ],\n       ...,\n       [0.04811252, 0.02512595, 0.02592379, ..., 1.        , 0.06846532,\n        0.04508348],\n       [0.02635231, 0.        , 0.        , ..., 0.06846532, 1.        ,\n        0.04938648],\n       [0.        , 0.02718636, 0.        , ..., 0.04508348, 0.04938648,\n        1.        ]])"
     },
     "execution_count": 41,
     "metadata": {},
     "output_type": "execute_result"
    }
   ],
   "source": [
    "similarity"
   ],
   "metadata": {
    "collapsed": false,
    "ExecuteTime": {
     "end_time": "2023-11-06T19:14:05.268828700Z",
     "start_time": "2023-11-06T19:14:02.269948600Z"
    }
   }
  },
  {
   "cell_type": "code",
   "execution_count": 42,
   "outputs": [],
   "source": [
    "def recommend(movie):\n",
    "    movie_index = new_movies_dataset[new_movies_dataset['title'] == movie].index[0]\n",
    "    distances = similarity[movie_index]\n",
    "    movies_list = sorted(list(enumerate(distances)), reverse=True, key=lambda x: x[1])[1:6]\n",
    "    for i in movies_list:\n",
    "        print(new_movies_dataset.iloc[i[0]].title)"
   ],
   "metadata": {
    "collapsed": false,
    "ExecuteTime": {
     "end_time": "2023-11-06T19:14:05.268828700Z",
     "start_time": "2023-11-06T19:14:02.279309300Z"
    }
   }
  },
  {
   "cell_type": "code",
   "execution_count": 43,
   "outputs": [
    {
     "name": "stdout",
     "output_type": "stream",
     "text": [
      "Aliens\n",
      "Independence Day\n",
      "Titan A.E.\n",
      "Small Soldiers\n",
      "Aliens vs Predator: Requiem\n"
     ]
    }
   ],
   "source": [
    "recommend('Avatar')"
   ],
   "metadata": {
    "collapsed": false,
    "ExecuteTime": {
     "end_time": "2023-11-06T19:14:45.048716Z",
     "start_time": "2023-11-06T19:14:45.020577300Z"
    }
   }
  },
  {
   "cell_type": "code",
   "execution_count": 44,
   "outputs": [
    {
     "name": "stdout",
     "output_type": "stream",
     "text": [
      "The Dark Knight\n",
      "Batman\n",
      "Batman Begins\n",
      "Batman\n",
      "Batman Returns\n"
     ]
    }
   ],
   "source": [
    "recommend('The Dark Knight Rises')"
   ],
   "metadata": {
    "collapsed": false,
    "ExecuteTime": {
     "end_time": "2023-11-06T19:14:46.519161300Z",
     "start_time": "2023-11-06T19:14:46.500353800Z"
    }
   }
  },
  {
   "cell_type": "code",
   "execution_count": 45,
   "outputs": [
    {
     "name": "stdout",
     "output_type": "stream",
     "text": [
      "Avengers: Age of Ultron\n",
      "Captain America: Civil War\n",
      "Iron Man 3\n",
      "Captain America: The First Avenger\n",
      "Ant-Man\n"
     ]
    }
   ],
   "source": [
    "recommend('The Avengers')"
   ],
   "metadata": {
    "collapsed": false,
    "ExecuteTime": {
     "end_time": "2023-11-06T19:14:48.257468300Z",
     "start_time": "2023-11-06T19:14:48.237897300Z"
    }
   }
  },
  {
   "cell_type": "code",
   "execution_count": 46,
   "outputs": [
    {
     "name": "stdout",
     "output_type": "stream",
     "text": [
      "Desert Dancer\n",
      "Take the Lead\n",
      "Center Stage\n",
      "Step Up\n",
      "Step Up 2: The Streets\n"
     ]
    }
   ],
   "source": [
    "recommend('The Godfather')"
   ],
   "metadata": {
    "collapsed": false,
    "ExecuteTime": {
     "end_time": "2023-11-06T19:14:49.040984500Z",
     "start_time": "2023-11-06T19:14:49.021384900Z"
    }
   }
  },
  {
   "cell_type": "markdown",
   "source": [
    "### Saving the model"
   ],
   "metadata": {
    "collapsed": false
   }
  },
  {
   "cell_type": "code",
   "execution_count": 47,
   "outputs": [],
   "source": [
    "import pickle"
   ],
   "metadata": {
    "collapsed": false,
    "ExecuteTime": {
     "end_time": "2023-11-06T19:14:50.476018900Z",
     "start_time": "2023-11-06T19:14:50.457403100Z"
    }
   }
  },
  {
   "cell_type": "code",
   "execution_count": 48,
   "outputs": [],
   "source": [
    "pickle.dump(new_movies_dataset.to_dict(), open('movies_dict.pkl', 'wb'))"
   ],
   "metadata": {
    "collapsed": false,
    "ExecuteTime": {
     "end_time": "2023-11-06T19:14:50.971640100Z",
     "start_time": "2023-11-06T19:14:50.941980700Z"
    }
   }
  },
  {
   "cell_type": "code",
   "execution_count": 49,
   "outputs": [],
   "source": [
    "pickle.dump(similarity, open('similarity.pkl', 'wb'))"
   ],
   "metadata": {
    "collapsed": false,
    "ExecuteTime": {
     "end_time": "2023-11-06T19:14:51.593609200Z",
     "start_time": "2023-11-06T19:14:51.375124200Z"
    }
   }
  },
  {
   "cell_type": "code",
   "execution_count": 50,
   "outputs": [],
   "source": [
    "movie_list = pickle.load(open('movies_dict.pkl', 'rb'))\n",
    "movies = pd.DataFrame(movie_list)"
   ],
   "metadata": {
    "collapsed": false,
    "ExecuteTime": {
     "end_time": "2023-11-06T19:14:52.124137500Z",
     "start_time": "2023-11-06T19:14:52.098025800Z"
    }
   }
  },
  {
   "cell_type": "code",
   "execution_count": 50,
   "outputs": [],
   "source": [],
   "metadata": {
    "collapsed": false,
    "ExecuteTime": {
     "end_time": "2023-11-06T19:14:52.980062200Z",
     "start_time": "2023-11-06T19:14:52.975189100Z"
    }
   }
  },
  {
   "cell_type": "code",
   "execution_count": 51,
   "outputs": [],
   "source": [
    "import bz2\n",
    "import pickle\n",
    "import _pickle as cPickle\n",
    "# loads and returns a pickled objects\n",
    "def loosen(file):\n",
    "    pikd = open(file, 'rb')\n",
    "    data = pickle.load(pikd)\n",
    "    pikd.close()\n",
    "    return data\n",
    "data = loosen('similarity.pkl')\n",
    "def compressed_pickle(title, data):\n",
    "    with bz2.BZ2File(title + '.pbz2', 'w') as f:\n",
    "        cPickle.dump(data, f)\n",
    "compressed_pickle('similarity_comp', data)"
   ],
   "metadata": {
    "collapsed": false,
    "ExecuteTime": {
     "end_time": "2023-11-06T19:15:02.223512600Z",
     "start_time": "2023-11-06T19:14:53.968358800Z"
    }
   }
  },
  {
   "cell_type": "code",
   "execution_count": null,
   "outputs": [],
   "source": [],
   "metadata": {
    "collapsed": false
   }
  }
 ],
 "metadata": {
  "kernelspec": {
   "display_name": "Python 3",
   "language": "python",
   "name": "python3"
  },
  "language_info": {
   "codemirror_mode": {
    "name": "ipython",
    "version": 2
   },
   "file_extension": ".py",
   "mimetype": "text/x-python",
   "name": "python",
   "nbconvert_exporter": "python",
   "pygments_lexer": "ipython2",
   "version": "2.7.6"
  }
 },
 "nbformat": 4,
 "nbformat_minor": 0
}
